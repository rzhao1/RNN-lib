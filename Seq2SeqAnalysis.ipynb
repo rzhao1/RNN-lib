{
 "cells": [
  {
   "cell_type": "code",
   "execution_count": 1,
   "metadata": {
    "collapsed": true
   },
   "outputs": [],
   "source": [
    "from matplotlib import pyplot as plt\n",
    "import numpy as np\n",
    "%matplotlib inline"
   ]
  },
  {
   "cell_type": "code",
   "execution_count": 2,
   "metadata": {
    "collapsed": false
   },
   "outputs": [],
   "source": [
    "import os\n",
    "import time\n",
    "import tensorflow as tf\n",
    "from data_utils.split_data import WordSeqCorpus\n",
    "from data_utils.data_feed import WordSeqDataFeed\n",
    "from models.word_seq2seq import Word2SeqAutoEncoder\n",
    "from config_utils import Word2SeqAutoConfig as Config\n",
    "\n",
    "# constants\n",
    "tf.app.flags.DEFINE_string(\"data_dir\", \"Data/\", \"the dir that has the raw corpus file\")\n",
    "tf.app.flags.DEFINE_string(\"data_file\", \"open_subtitle.txt\", \"the file that contains the raw data\")\n",
    "tf.app.flags.DEFINE_string(\"work_dir\", \"seq_working/\", \"Experiment results directory.\")\n",
    "tf.app.flags.DEFINE_string(\"equal_batch\", True, \"Make each batch has similar length.\")\n",
    "tf.app.flags.DEFINE_string(\"max_vocab_size\", 20000, \"The top N vocabulary we use.\")\n",
    "tf.app.flags.DEFINE_bool(\"save_model\", True, \"Create checkpoints\")\n",
    "tf.app.flags.DEFINE_bool(\"resume\", True, \"Resume training from the ckp at test_path\")\n",
    "tf.app.flags.DEFINE_bool(\"forward\", True, \"Do decoding only\")\n",
    "tf.app.flags.DEFINE_string(\"test_path\", \"run1480404404\", \"the dir to load checkpoint for forward only\")\n",
    "FLAGS = tf.app.flags.FLAGS"
   ]
  },
  {
   "cell_type": "code",
   "execution_count": 3,
   "metadata": {
    "collapsed": false
   },
   "outputs": [
    {
     "name": "stdout",
     "output_type": "stream",
     "text": [
      "<config_utils.Word2SeqAutoConfig object at 0x7f2f17a39950>\n",
      "Loaded from cache\n",
      "Raw vocab cnt 109848 with valid ratio 0.985635\n",
      "Before cutting. Raw vocab size is 109848 with valid ratio 0.985635\n",
      "TRAIN encoder avg len 14.82 max len 25.00 of 2706139 lines\n",
      "TRAIN decoder avg len 7.21 max len 25.00 of 2706139 lines\n",
      "VALID encoder avg len 14.99 max len 25.00 of 13667 lines\n",
      "VALID decoder avg len 7.29 max len 25.00 of 13667 lines\n",
      "TEST encoder avg len 14.96 max len 25.00 of 6717 lines\n",
      "TEST decoder avg len 7.34 max len 25.00 of 6717 lines\n",
      "Train feed loads 2706139 samples\n",
      "Valid feed loads 13667 samples\n",
      "Test feed loads 6717 samples\n",
      "Reading models parameters from seq_working/run1480404404/checkpoints/word2seq.ckpt-3\n"
     ]
    }
   ],
   "source": [
    " # Load configuration\n",
    "config = Config()\n",
    "# for perplexity evaluation\n",
    "valid_config = Config()\n",
    "valid_config.keep_prob = 1.0\n",
    "valid_config.batch_size = 10\n",
    "\n",
    "# for forward only decoding\n",
    "test_config = Config()\n",
    "test_config.keep_prob = 1.0\n",
    "test_config.batch_size = 10\n",
    "test_config.beam_size = 20\n",
    "print(config)\n",
    "\n",
    "# load corpus\n",
    "api = WordSeqCorpus(FLAGS.data_dir, FLAGS.data_file, [98,1,1], FLAGS.max_vocab_size,\n",
    "                    config.max_enc_len, config.max_dec_len, config.line_thres)\n",
    "corpus_data = api.get_corpus()\n",
    "\n",
    "# convert to numeric input outputs that fits into TF models\n",
    "train_feed = WordSeqDataFeed(\"Train\", config,corpus_data[\"train\"], api.vocab)\n",
    "valid_feed = WordSeqDataFeed(\"Valid\", config,corpus_data[\"valid\"], api.vocab)\n",
    "test_feed = WordSeqDataFeed(\"Test\", config,corpus_data[\"test\"], api.vocab)\n",
    "\n",
    "if not os.path.exists(FLAGS.work_dir):\n",
    "    os.mkdir(FLAGS.work_dir)\n",
    "\n",
    "if FLAGS.forward or FLAGS.resume:\n",
    "    log_dir = os.path.join(FLAGS.work_dir, FLAGS.test_path)\n",
    "else:\n",
    "    log_dir = os.path.join(FLAGS.work_dir, \"run\" + str(int(time.time())))\n",
    "    os.mkdir(log_dir)\n",
    "\n",
    "# begin training\n",
    "sess = tf.InteractiveSession()\n",
    "initializer = tf.random_uniform_initializer(-1*config.init_w, config.init_w)\n",
    "with tf.variable_scope(\"model\", reuse=None, initializer=initializer):\n",
    "    model = Word2SeqAutoEncoder(sess, config, len(train_feed.vocab), train_feed.EOS_ID,\n",
    "                                log_dir=None if FLAGS.forward else log_dir, forward=False)\n",
    "\n",
    "with tf.variable_scope(\"model\", reuse=True, initializer=initializer):\n",
    "    valid_model = Word2SeqAutoEncoder(sess, valid_config, len(train_feed.vocab), train_feed.EOS_ID, None, forward=False)\n",
    "\n",
    "# get a random batch and do forward decoding. Print the most likely response\n",
    "with tf.variable_scope(\"model\", reuse=True, initializer=initializer):\n",
    "    test_model = Word2SeqAutoEncoder(sess, test_config, len(train_feed.vocab), train_feed.EOS_ID, None, forward=True)\n",
    "\n",
    "ckp_dir = os.path.join(log_dir, \"checkpoints\")\n",
    "\n",
    "global_t = 0\n",
    "patience = 10  # wait for at least 10 epoch before consider early stop\n",
    "valid_loss_threshold = np.inf\n",
    "best_valid_loss = np.inf\n",
    "checkpoint_path = os.path.join(ckp_dir, \"word2seq.ckpt\")\n",
    "\n",
    "if not os.path.exists(ckp_dir):\n",
    "    os.mkdir(ckp_dir)\n",
    "\n",
    "ckpt = tf.train.get_checkpoint_state(ckp_dir)\n",
    "\n",
    "if ckpt:\n",
    "    print(\"Reading models parameters from %s\" % ckpt.model_checkpoint_path)\n",
    "    model.saver.restore(sess, ckpt.model_checkpoint_path)\n",
    "else:\n",
    "    print(\"Created models with fresh parameters.\")\n",
    "    sess.run(tf.initialize_all_variables())\n"
   ]
  },
  {
   "cell_type": "code",
   "execution_count": 4,
   "metadata": {
    "collapsed": true
   },
   "outputs": [],
   "source": [
    "def softmax(w, t = 1.0):\n",
    "    num_dim = len(w.shape)\n",
    "    e = np.exp(np.array(w) / t)\n",
    "    dist = e / np.expand_dims(np.sum(e, axis=num_dim-1), axis=num_dim-1)\n",
    "    return dist"
   ]
  },
  {
   "cell_type": "code",
   "execution_count": 28,
   "metadata": {
    "collapsed": false
   },
   "outputs": [
    {
     "name": "stdout",
     "output_type": "stream",
     "text": [
      "Test begins with 671 batches\n"
     ]
    }
   ],
   "source": [
    "test_feed.epoch_init(test_config.batch_size, shuffle=True)\n",
    "fetch = [test_model.decoder_logits, test_model.beam_symbols, test_model.beam_path, \n",
    "         test_model.log_beam_probs, test_model.reconstruct_logits]"
   ]
  },
  {
   "cell_type": "code",
   "execution_count": 57,
   "metadata": {
    "collapsed": false
   },
   "outputs": [],
   "source": [
    "batch = test_feed.next_batch()\n",
    "encoder_len, decoder_len, encoder_x, decoder_y = batch\n",
    "feed_dict = {test_model.encoder_batch: encoder_x, test_model.decoder_batch: decoder_y,\n",
    "             test_model.encoder_lens: encoder_len}\n",
    "pred, symbol, path, probs, reconstruct = sess.run(fetch, feed_dict)\n",
    "\n",
    "feed_dict = {valid_model.encoder_batch: encoder_x, valid_model.decoder_batch: decoder_y,\n",
    "             valid_model.encoder_lens: encoder_len}\n",
    "valid_logits= sess.run(valid_model.decoder_logits, feed_dict)\n",
    "valid_logits = softmax(np.swapaxes(np.array(valid_logits), 1,0))"
   ]
  },
  {
   "cell_type": "code",
   "execution_count": 58,
   "metadata": {
    "collapsed": false
   },
   "outputs": [],
   "source": [
    "#print probs[0]\n"
   ]
  },
  {
   "cell_type": "code",
   "execution_count": 59,
   "metadata": {
    "collapsed": false
   },
   "outputs": [],
   "source": [
    "beam_symbols_matrix = np.array(symbol)\n",
    "beam_path_matrix = np.array(path)\n",
    "beam_log_matrix = np.array(probs)"
   ]
  },
  {
   "cell_type": "code",
   "execution_count": 60,
   "metadata": {
    "collapsed": false
   },
   "outputs": [],
   "source": [
    "from models.common_functions import *"
   ]
  },
  {
   "cell_type": "code",
   "execution_count": 61,
   "metadata": {
    "collapsed": false
   },
   "outputs": [
    {
     "name": "stdout",
     "output_type": "stream",
     "text": [
      "you got two weeks . <t> now , you told me that your wife said that he called it ocean ' s 1 1 .\n",
      "now , who decided that ?\n"
     ]
    }
   ],
   "source": [
    "b_idx = 1\n",
    "source = list(encoder_x[b_idx])\n",
    "ref = list(decoder_y[b_idx, 1:])\n",
    "ref = [r for r in ref if r not in [test_feed.PAD_ID, test_feed.EOS_ID]]\n",
    "print \" \".join([test_feed.rev_vocab[w] for w in source])\n",
    "print \" \".join([test_feed.rev_vocab[w] for w in ref])"
   ]
  },
  {
   "cell_type": "code",
   "execution_count": 62,
   "metadata": {
    "collapsed": false
   },
   "outputs": [],
   "source": [
    "# remove padding and EOS symbol\n",
    "b_beam_symbol = beam_symbols_matrix[:, b_idx * test_model.beam_size:(b_idx + 1) * test_model.beam_size]\n",
    "b_beam_path = beam_path_matrix[:, b_idx * test_model.beam_size:(b_idx + 1) * test_model.beam_size]\n",
    "b_beam_log = beam_log_matrix[:, b_idx * test_model.beam_size:(b_idx + 1) * test_model.beam_size]\n",
    "n_best = get_n_best(b_beam_symbol, b_beam_path, b_beam_log, test_model.beam_size, test_feed.EOS_ID)"
   ]
  },
  {
   "cell_type": "code",
   "execution_count": 63,
   "metadata": {
    "collapsed": false,
    "scrolled": true
   },
   "outputs": [
    {
     "name": "stdout",
     "output_type": "stream",
     "text": [
      "-5.9916305542\n",
      "yeah .\n",
      "-6.00712585449\n",
      "what ?\n",
      "-6.40257263184\n",
      "yeah ?\n",
      "-6.43265533447\n",
      "okay .\n",
      "-8.06537628174\n",
      "all right .\n",
      "-9.08196258545\n",
      "well , um\n",
      "-10.0020599365\n",
      "all right now\n",
      "-10.2084884644\n",
      "that ' s .\n",
      "-10.4501266479\n",
      "i ' s .\n",
      "-10.852355957\n",
      "well , i said\n",
      "-11.4989395142\n",
      "that ' s ...\n",
      "-11.956741333\n",
      "yeah , uh ,\n",
      "-12.7769851685\n",
      "i ' s the\n",
      "-14.0683822632\n",
      "that ' s , i .\n",
      "-14.6521453857\n",
      "that ' s , and\n",
      "-14.9374008179\n",
      "that ' s UNK_ .\n",
      "-15.8397979736\n",
      "well , uh , he\n",
      "-16.1023712158\n",
      "that ' s UNK_ ,\n",
      "-16.5229263306\n",
      "well , uh , i ' m .\n",
      "-16.6468048096\n",
      "well , uh , he said\n"
     ]
    }
   ],
   "source": [
    "for score, best in n_best:\n",
    "    print score\n",
    "    print \" \".join([test_feed.rev_vocab[w] for w in best])"
   ]
  },
  {
   "cell_type": "code",
   "execution_count": 82,
   "metadata": {
    "collapsed": false
   },
   "outputs": [
    {
     "name": "stdout",
     "output_type": "stream",
     "text": [
      "[ 6  6  6  6  7  6  7  6  7  6  4 53 10  6 10  4  7  7 42  7]\n",
      "[ 7 10  9 15  5 16  8 11  0 14  9 19  4 18  9 18  2  4  0  1]\n"
     ]
    }
   ],
   "source": [
    "t_idx = 1\n",
    "print np.reshape(symbol[t_idx], [test_config.batch_size, test_config.beam_size])[b_idx]\n",
    "print np.reshape(path[t_idx], [test_config.batch_size, test_config.beam_size])[b_idx]"
   ]
  },
  {
   "cell_type": "code",
   "execution_count": 77,
   "metadata": {
    "collapsed": false
   },
   "outputs": [
    {
     "name": "stdout",
     "output_type": "stream",
     "text": [
      "[ 44  87  11  88 101  68  56  66  34  65  70  16  84  55  19  22  20  29\n",
      "   8   9]\n",
      "[ 7148  2859  9048 14962  9664  3999  4446  2078  3012  1304  1694  4050\n",
      "  2847  3081  4488  6911 13613 11960  8096  9502]\n"
     ]
    }
   ],
   "source": [
    "top_k_o = np.argsort(valid_logits[b_idx, t_idx])[-20:]\n",
    "print top_k_o\n",
    "top_k = np.argsort(valid_logits[b_idx, t_idx] / (1.0 / (np.array(range(1, 20005))*np.log(1.78*20005))))[-20:]\n",
    "print top_k"
   ]
  },
  {
   "cell_type": "code",
   "execution_count": 78,
   "metadata": {
    "collapsed": false
   },
   "outputs": [
    {
     "name": "stdout",
     "output_type": "stream",
     "text": [
      "['all', 'okay', 'the', 'yes', 'hey', 'now', 'but', 'she', 'no', 'oh', 'yeah', 'it', 'well', 'so', 'that', 'what', 'and', 'he', 'you', 'i']\n",
      "['shhh', 'shrek', 'porco', 'hasta', 'eww', 'hyah', 'forrest', 'fifty', 'ouch', 'twenty', 'liar', 'bam', 'fifteen', 'tha', '250', 'ew', 'pepa', 'chuy', 'muriel', 'talon']\n"
     ]
    }
   ],
   "source": [
    "print [test_feed.rev_vocab[w] for w in top_k_o]\n",
    "print [test_feed.rev_vocab[w] for w in top_k]"
   ]
  },
  {
   "cell_type": "code",
   "execution_count": 132,
   "metadata": {
    "collapsed": false
   },
   "outputs": [
    {
     "data": {
      "text/plain": [
       "(array([20000]),)"
      ]
     },
     "execution_count": 132,
     "metadata": {},
     "output_type": "execute_result"
    }
   ],
   "source": [
    "np.where(top_k==638)"
   ]
  },
  {
   "cell_type": "code",
   "execution_count": 50,
   "metadata": {
    "collapsed": false
   },
   "outputs": [
    {
     "name": "stdout",
     "output_type": "stream",
     "text": [
      "oh . . EOS_ . EOS_ EOS_ EOS_ EOS_ EOS_ EOS_ EOS_ EOS_ EOS_ EOS_ EOS_ EOS_ EOS_ EOS_ EOS_ EOS_ EOS_ EOS_ EOS_\n"
     ]
    }
   ],
   "source": [
    "print \" \".join([test_feed.rev_vocab[w] for w in valid_preds[b_idx]])"
   ]
  },
  {
   "cell_type": "code",
   "execution_count": 151,
   "metadata": {
    "collapsed": false
   },
   "outputs": [
    {
     "data": {
      "text/plain": [
       "[<matplotlib.lines.Line2D at 0x7f3a9c5282d0>]"
      ]
     },
     "execution_count": 151,
     "metadata": {},
     "output_type": "execute_result"
    },
    {
     "data": {
      "image/png": "[encoded data removed]",
      "text/plain": [
       "<matplotlib.figure.Figure at 0x7f3a9c61f3d0>"
      ]
     },
     "metadata": {},
     "output_type": "display_data"
    }
   ],
   "source": [
    "plt.plot(valid_logits[b_idx, 0] - 1.0 / (np.array(range(1, 20005))*np.log(1.78*20005)))"
   ]
  },
  {
   "cell_type": "code",
   "execution_count": 131,
   "metadata": {
    "collapsed": false
   },
   "outputs": [
    {
     "data": {
      "text/plain": [
       "638"
      ]
     },
     "execution_count": 131,
     "metadata": {},
     "output_type": "execute_result"
    }
   ],
   "source": [
    "test_feed.vocab['christ']"
   ]
  },
  {
   "cell_type": "code",
   "execution_count": null,
   "metadata": {
    "collapsed": false
   },
   "outputs": [],
   "source": []
  },
  {
   "cell_type": "code",
   "execution_count": 108,
   "metadata": {
    "collapsed": false
   },
   "outputs": [],
   "source": []
  },
  {
   "cell_type": "code",
   "execution_count": 133,
   "metadata": {
    "collapsed": false
   },
   "outputs": [],
   "source": [
    "a = [1,2,3,4]"
   ]
  },
  {
   "cell_type": "code",
   "execution_count": 175,
   "metadata": {
    "collapsed": false
   },
   "outputs": [
    {
     "data": {
      "text/plain": [
       "10.48035088559533"
      ]
     },
     "execution_count": 175,
     "metadata": {},
     "output_type": "execute_result"
    }
   ],
   "source": [
    "np.log(1.78*20005)"
   ]
  },
  {
   "cell_type": "code",
   "execution_count": 179,
   "metadata": {
    "collapsed": false
   },
   "outputs": [
    {
     "data": {
      "text/plain": [
       "-2.3025850929940455"
      ]
     },
     "execution_count": 179,
     "metadata": {},
     "output_type": "execute_result"
    }
   ],
   "source": [
    "np.log(0.1)"
   ]
  },
  {
   "cell_type": "code",
   "execution_count": 4,
   "metadata": {
    "collapsed": false
   },
   "outputs": [
    {
     "data": {
      "text/plain": [
       "array([  2.3494973 ,   3.04264448,   3.44810959, ...,  12.25308485,\n",
       "        12.25313485,  12.25318484])"
      ]
     },
     "execution_count": 4,
     "metadata": {},
     "output_type": "execute_result"
    }
   ],
   "source": [
    "np.log(np.array(range(1,20005))*10.4803)"
   ]
  },
  {
   "cell_type": "code",
   "execution_count": 7,
   "metadata": {
    "collapsed": false
   },
   "outputs": [
    {
     "data": {
      "text/plain": [
       "array([  2.34950216,   3.04264934,   3.44811445, ...,  12.25308971,\n",
       "        12.2531397 ,  12.25318969])"
      ]
     },
     "execution_count": 7,
     "metadata": {},
     "output_type": "execute_result"
    }
   ],
   "source": [
    "np.log((np.array(range(1, 20005))*np.log(1.78*20005)))"
   ]
  },
  {
   "cell_type": "code",
   "execution_count": null,
   "metadata": {
    "collapsed": true
   },
   "outputs": [],
   "source": []
  }
 ],
 "metadata": {
  "anaconda-cloud": {},
  "kernelspec": {
   "display_name": "Python [conda root]",
   "language": "python",
   "name": "conda-root-py"
  },
  "language_info": {
   "codemirror_mode": {
    "name": "ipython",
    "version": 2
   },
   "file_extension": ".py",
   "mimetype": "text/x-python",
   "name": "python",
   "nbconvert_exporter": "python",
   "pygments_lexer": "ipython2",
   "version": "2.7.12"
  }
 },
 "nbformat": 4,
 "nbformat_minor": 1
}
